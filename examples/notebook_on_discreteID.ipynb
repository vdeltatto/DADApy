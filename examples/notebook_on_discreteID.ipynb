{
 "cells": [
  {
   "cell_type": "code",
   "execution_count": 1,
   "id": "b2b9c7dc",
   "metadata": {},
   "outputs": [],
   "source": [
    "import numpy as np\n",
    "import matplotlib.pyplot as plt \n",
    "rng = np.random.default_rng(12345)\n",
    "from dadapy.id_discrete import IdDiscrete\n",
    "%load_ext autoreload\n",
    "%autoreload 2"
   ]
  },
  {
   "cell_type": "markdown",
   "id": "47fb992f-757d-4abb-bb3d-8f6c121c5a7c",
   "metadata": {},
   "source": [
    "# Test on uniform distribution"
   ]
  },
  {
   "cell_type": "markdown",
   "id": "88a222e7-ebba-44f8-bec6-bc8b1bbae94b",
   "metadata": {},
   "source": [
    "1. create the dataset"
   ]
  },
  {
   "cell_type": "code",
   "execution_count": 2,
   "id": "5fc1c9f7",
   "metadata": {},
   "outputs": [],
   "source": [
    "N = 2500\n",
    "box = 50\n",
    "d = 5\n",
    "data = rng.integers(0,box,size=(N, d))"
   ]
  },
  {
   "cell_type": "markdown",
   "id": "c6603937-e0b6-4f97-ade8-0d0f30f1eefe",
   "metadata": {},
   "source": [
    "2. load into the estimator and compute distances:\n",
    "    1. use condensed=False, to store point-point distances. This option is useful to trace WHICH are the neighbours, but can be memory demanding, as in principle the information is stored in to an NxN matrix (or N x maxk, i.e. truncated at the maxk neighbour). Generally one wants to store a matrix which is 10^8 at most. This routines use the canonical NearestNeighbour routine from the sklearn library."
   ]
  },
  {
   "cell_type": "code",
   "execution_count": 3,
   "id": "026a5462",
   "metadata": {},
   "outputs": [
    {
     "name": "stdout",
     "output_type": "stream",
     "text": [
      "CPU times: user 1.52 s, sys: 19.7 ms, total: 1.54 s\n",
      "Wall time: 1.54 s\n"
     ]
    }
   ],
   "source": [
    "%%time\n",
    "I3D = IdDiscrete(data, condensed=False, maxk=data.shape[0]-1)\n",
    "# use Periodic Boundary Conditions, if it makes sense, through the flag 'period'. If that's not the case, simply remove the flag\n",
    "I3D.compute_distances(metric='manhattan',period=box)"
   ]
  },
  {
   "cell_type": "markdown",
   "id": "27c65858-e9db-4933-84bf-d4877b71c253",
   "metadata": {},
   "source": [
    "In order to have an idea of the mean distances between points, one looks at I3D.distances "
   ]
  },
  {
   "cell_type": "code",
   "execution_count": 4,
   "id": "6de5590d-5937-4ead-a973-9c16fd943f30",
   "metadata": {},
   "outputs": [
    {
     "name": "stdout",
     "output_type": "stream",
     "text": [
      "mean distance of first neighbour:  12.3116\n",
      "mean distance of second neighbour:  14.8772\n"
     ]
    }
   ],
   "source": [
    "print('mean distance of first neighbour: ',I3D.distances[:,1].mean())\n",
    "print('mean distance of second neighbour: ',I3D.distances[:,2].mean())"
   ]
  },
  {
   "cell_type": "markdown",
   "id": "3af4f896-9cad-4c57-8905-f3b703a9608d",
   "metadata": {},
   "source": [
    "2. load into the estimator and store distances more efficiently:\n",
    "    2. by condensed=True, one stores the cumulative of how many points there are within a given distance. One deals with a N x d_max matrix that stores all information if d_max is the maximum possible distance between two points of the dataset. It is recommended to set condensed=True for datasets bigger than 30k points. This is performed through a cython function that can run in parallel.\n",
    "    "
   ]
  },
  {
   "cell_type": "code",
   "execution_count": 5,
   "id": "20957ef4-db7e-4b6e-a07b-f3cf75f3fa8a",
   "metadata": {},
   "outputs": [
    {
     "name": "stdout",
     "output_type": "stream",
     "text": [
      "N.B. the data will be passed to the routine to compute distances as integers\n",
      "CPU times: user 513 ms, sys: 11.3 ms, total: 524 ms\n",
      "Wall time: 74 ms\n"
     ]
    }
   ],
   "source": [
    "%%time\n",
    "I3Dc = IdDiscrete(data, condensed=True, maxk=data.shape[0])\n",
    "# once again, use Periodic Boundary Conditions, if it makes sense, through the flag 'period'\n",
    "I3Dc.compute_distances(metric='manhattan',d_max=box*d,period=box)"
   ]
  },
  {
   "cell_type": "code",
   "execution_count": 6,
   "id": "04d8be50-7112-41e8-9216-bb36976c5f3d",
   "metadata": {},
   "outputs": [
    {
     "name": "stdout",
     "output_type": "stream",
     "text": [
      "mean distance of first neighbour:  12.3116\n",
      "mean distance of first neighbour:  14.8772\n"
     ]
    }
   ],
   "source": [
    "dist_1NN = np.mean([np.where(dd>1)[0][0] for dd in I3Dc.distances])\n",
    "print('mean distance of first neighbour: ',dist_1NN)\n",
    "dist_2NN = np.mean([np.where(dd>2)[0][0] for dd in I3Dc.distances])\n",
    "print('mean distance of first neighbour: ',dist_2NN)"
   ]
  },
  {
   "cell_type": "markdown",
   "id": "3665b860-9150-47c0-b5a9-2a24d0cc2c1e",
   "metadata": {},
   "source": [
    "3. By using the function compute_id_binomial_k one computes the id taking into account the first k neighbours for each point. The function returns the ID estimate, the error and the scale. Check consistency between the two ways distances are stored"
   ]
  },
  {
   "cell_type": "code",
   "execution_count": 7,
   "id": "42ba8750-2c0c-4a03-a7c7-886cd1d4fa4a",
   "metadata": {},
   "outputs": [
    {
     "name": "stdout",
     "output_type": "stream",
     "text": [
      "CPU times: user 2.78 s, sys: 0 ns, total: 2.78 s\n",
      "Wall time: 2.74 s\n"
     ]
    },
    {
     "data": {
      "text/plain": [
       "(4.938174408660745, 0.14182634720817547, 23.636)"
      ]
     },
     "execution_count": 7,
     "metadata": {},
     "output_type": "execute_result"
    }
   ],
   "source": [
    "%%time\n",
    "I3D.compute_id_binomial_k(20,False,0.5)"
   ]
  },
  {
   "cell_type": "code",
   "execution_count": 8,
   "id": "1e2c4e0c-0d5a-48c4-a060-886d0f210e27",
   "metadata": {},
   "outputs": [
    {
     "name": "stdout",
     "output_type": "stream",
     "text": [
      "CPU times: user 2.61 s, sys: 0 ns, total: 2.61 s\n",
      "Wall time: 2.61 s\n"
     ]
    },
    {
     "data": {
      "text/plain": [
       "(4.938174408660745, 0.14182634720817547, 23.636)"
      ]
     },
     "execution_count": 8,
     "metadata": {},
     "output_type": "execute_result"
    }
   ],
   "source": [
    "%%time\n",
    "I3Dc.compute_id_binomial_k(20,False,0.5)"
   ]
  },
  {
   "cell_type": "markdown",
   "id": "956de206-c85a-47a5-aa7f-5a0ba93a617e",
   "metadata": {},
   "source": [
    "3. \n",
    "    1. In order to check the distance of the k-th neighbour one can access the instance lk of the class"
   ]
  },
  {
   "cell_type": "code",
   "execution_count": 9,
   "id": "5689affc-9079-4b30-aa65-2c434e16fae0",
   "metadata": {},
   "outputs": [
    {
     "name": "stdout",
     "output_type": "stream",
     "text": [
      "[23. 25. 24. ... 23. 24. 24.]\n",
      "23.636\n"
     ]
    }
   ],
   "source": [
    "print(I3D.lk)\n",
    "print(I3D.lk.mean())"
   ]
  },
  {
   "cell_type": "markdown",
   "id": "f522ea3f",
   "metadata": {},
   "source": [
    "4. Once you have an idea of the scales at which points are placed, one can compute the ID at a precise, physical and meaningful scale by fixing the radii of the two shells used for the comparison (see [1]). The function returns the ID, its error and the scale. One can choose between a maximum likelihood estimation, setting method='mle', or a bayesian approach, setting method='bayes'. The two basically give the same results if the number of point is greater than 100. Nonetheless, the bayesian approach returns the profile of the posterior if plot=True (but it is slower, as it has to compute the posterior in every points)"
   ]
  },
  {
   "cell_type": "code",
   "execution_count": 10,
   "id": "3a6d69a8",
   "metadata": {},
   "outputs": [
    {
     "data": {
      "text/plain": [
       "((5.007904946563731, 0.027220281884426212, 25),\n",
       " (5.007904946563731, 0.027220281884426212, 25))"
      ]
     },
     "execution_count": 10,
     "metadata": {},
     "output_type": "execute_result"
    }
   ],
   "source": [
    "I3D.compute_id_binomial_lk(25,20,'mle'), I3Dc.compute_id_binomial_lk(25,20,'mle')"
   ]
  },
  {
   "cell_type": "code",
   "execution_count": 12,
   "id": "3989e332-b301-4942-bac8-c632cb945275",
   "metadata": {},
   "outputs": [
    {
     "data": {
      "image/png": "[encoded data removed]",
      "text/plain": [
       "<Figure size 432x288 with 1 Axes>"
      ]
     },
     "metadata": {
      "needs_background": "light"
     },
     "output_type": "display_data"
    },
    {
     "name": "stdout",
     "output_type": "stream",
     "text": [
      "empirical average:\t 5.007910183342588 \n",
      "empirical std:\t\t 0.027219995054375196\n"
     ]
    },
    {
     "data": {
      "text/plain": [
       "(5.007910183342588, 0.027219995054375196, 25)"
      ]
     },
     "execution_count": 12,
     "metadata": {},
     "output_type": "execute_result"
    }
   ],
   "source": [
    "I3D.compute_id_binomial_lk(25,20,'bayes',plot=True)"
   ]
  },
  {
   "cell_type": "markdown",
   "id": "27e94b47-3eaa-40dd-8902-d990c0f118c9",
   "metadata": {},
   "source": [
    "4. \n",
    "    1. In order to check how many neighbours were taken into account, one can access the instance k of the class"
   ]
  },
  {
   "cell_type": "code",
   "execution_count": 13,
   "id": "daba1e90-5878-40fb-bb43-9a4ac1bacbe4",
   "metadata": {},
   "outputs": [
    {
     "name": "stdout",
     "output_type": "stream",
     "text": [
      "[28 17 22 ... 28 23 22]\n",
      "24.14\n"
     ]
    }
   ],
   "source": [
    "print(I3D.k)\n",
    "print(I3D.k.mean())"
   ]
  },
  {
   "cell_type": "markdown",
   "id": "38e4fe6f-c50f-4217-8a84-ce6f269b4261",
   "metadata": {},
   "source": [
    "5. One can check the goodness of the estimate using two quantities: \n",
    "    1. the comparison of local density of points within the inner radius and the density of points in the shell between the two radii. In particular one wish to obsercve the points staying as close as possible to the "
   ]
  },
  {
   "cell_type": "code",
   "execution_count": 14,
   "id": "179da7ee-3da3-4369-a0f8-e6666c17d6c1",
   "metadata": {},
   "outputs": [
    {
     "name": "stdout",
     "output_type": "stream",
     "text": [
      "average distance from line:  0.22381416196522105\n"
     ]
    },
    {
     "data": {
      "image/png": "[encoded data removed]",
      "text/plain": [
       "<Figure size 432x288 with 1 Axes>"
      ]
     },
     "metadata": {
      "needs_background": "light"
     },
     "output_type": "display_data"
    }
   ],
   "source": [
    "I3D.compute_local_density();"
   ]
  },
  {
   "cell_type": "markdown",
   "id": "03ee0735-c1e9-401c-be31-bf7fa68d26d7",
   "metadata": {},
   "source": [
    "5. and\n",
    "    2. the Kolmogorov-Smirnoff test between the theoretical and the empirical distributions of points n, within the inner shell. The higher the overlap, the more reliable is the id estimate as the model is capable of grasping the distribution of points. The function returns the p-value.\n",
    "    In general, for small raddi the KS gives good results as the density is really locally constant."
   ]
  },
  {
   "cell_type": "code",
   "execution_count": 15,
   "id": "f6aa4afa-9862-4f6d-8b6d-6f64372dc5a7",
   "metadata": {},
   "outputs": [
    {
     "name": "stdout",
     "output_type": "stream",
     "text": [
      "ks_stat:\t0.0108\n",
      "p-value:\t0.9986185536971761\n"
     ]
    },
    {
     "data": {
      "image/png": "[encoded data removed]",
      "text/plain": [
       "<Figure size 432x288 with 1 Axes>"
      ]
     },
     "metadata": {
      "needs_background": "light"
     },
     "output_type": "display_data"
    },
    {
     "data": {
      "text/plain": [
       "0.9986185536971761"
      ]
     },
     "execution_count": 15,
     "metadata": {},
     "output_type": "execute_result"
    }
   ],
   "source": [
    "I3D.model_validation_full()"
   ]
  },
  {
   "cell_type": "markdown",
   "id": "b32f70d9-75b1-40e4-8c4a-73c9343d050a",
   "metadata": {},
   "source": [
    "6. the scaling (id as a function of the distance) can be obtained using the function return_id_scaling, setting the range of distances and the ratio between the shells (0.5 by default, get closer to 1 if the id ~ 10)"
   ]
  },
  {
   "cell_type": "code",
   "execution_count": 17,
   "id": "f26a31f1-10d5-4632-988c-8f1a3b5c1f6a",
   "metadata": {},
   "outputs": [
    {
     "data": {
      "image/png": "[encoded data removed]",
      "text/plain": [
       "<Figure size 432x288 with 1 Axes>"
      ]
     },
     "metadata": {
      "needs_background": "light"
     },
     "output_type": "display_data"
    },
    {
     "name": "stdout",
     "output_type": "stream",
     "text": [
      "CPU times: user 923 ms, sys: 3.99 ms, total: 927 ms\n",
      "Wall time: 926 ms\n"
     ]
    }
   ],
   "source": [
    "%%time\n",
    "ids, id_er = I3D.return_id_scaling(range(15,30),0.75)"
   ]
  },
  {
   "cell_type": "markdown",
   "id": "0551705e-b6dc-4755-b758-581131fa6758",
   "metadata": {},
   "source": [
    "7. One can perform the estimate using only a subset of point by simply adding subset=your_index_list at the various compute/return_id functions (you can also provide an integer number, a random subsample of that size will be used)"
   ]
  },
  {
   "cell_type": "code",
   "execution_count": 18,
   "id": "73332f8f-f0ae-4611-a5ab-ca8bc2706456",
   "metadata": {},
   "outputs": [
    {
     "data": {
      "image/png": "[encoded data removed]",
      "text/plain": [
       "<Figure size 432x288 with 1 Axes>"
      ]
     },
     "metadata": {
      "needs_background": "light"
     },
     "output_type": "display_data"
    },
    {
     "name": "stdout",
     "output_type": "stream",
     "text": [
      "empirical average:\t 4.85991798780265 \n",
      "empirical std:\t\t 0.2190030751795338\n"
     ]
    },
    {
     "data": {
      "text/plain": [
       "(4.85991798780265, 0.2190030751795338, 20)"
      ]
     },
     "execution_count": 18,
     "metadata": {},
     "output_type": "execute_result"
    }
   ],
   "source": [
    "I3D.compute_id_binomial_lk(20,15,subset=np.arange(100))"
   ]
  }
 ],
 "metadata": {
  "kernelspec": {
   "display_name": "Python 3 (ipykernel)",
   "language": "python",
   "name": "python3"
  },
  "language_info": {
   "codemirror_mode": {
    "name": "ipython",
    "version": 3
   },
   "file_extension": ".py",
   "mimetype": "text/x-python",
   "name": "python",
   "nbconvert_exporter": "python",
   "pygments_lexer": "ipython3",
   "version": "3.9.13"
  }
 },
 "nbformat": 4,
 "nbformat_minor": 5
}
